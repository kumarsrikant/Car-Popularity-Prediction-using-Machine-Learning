{
 "cells": [
  {
   "cell_type": "code",
   "execution_count": 1,
   "metadata": {},
   "outputs": [
    {
     "name": "stdout",
     "output_type": "stream",
     "text": [
      "0.9754299754299754\n"
     ]
    }
   ],
   "source": [
    "import pandas as pd\n",
    "from sklearn import svm\n",
    "\n",
    "# Reading the data\n",
    "train = pd.read_csv(r'train.csv')\n",
    "test = pd.read_csv(r'test.csv')\n",
    "\n",
    "#prediction\n",
    "train_y = train.popularity\n",
    "predictor_cols = ['buying_price', 'maintainence_cost', 'number_of_doors', 'number_of_seats','luggage_boot_size','safety_rating']\n",
    "\n",
    "#Training Data\n",
    "train_X = train[predictor_cols]\n",
    "\n",
    "#model\n",
    "my_model = svm.SVC()\n",
    "my_model.fit(train_X, train_y)\n",
    "\n",
    "#Test Data\n",
    "test_X = test[predictor_cols]\n",
    "#Predicting\n",
    "predicted_prices = my_model.predict(test_X)\n",
    "y=train_y[1:101]\n",
    "\n",
    "my_submission = pd.DataFrame({'Popularity': predicted_prices})\n",
    "accuracy=my_model.score(train_X, train_y)\n",
    "print(accuracy)\n",
    "#Cerating seperate data\n",
    "my_submission.to_csv('submissionSVM.csv', index=False)"
   ]
  },
  {
   "cell_type": "code",
   "execution_count": null,
   "metadata": {},
   "outputs": [],
   "source": []
  }
 ],
 "metadata": {
  "kernelspec": {
   "display_name": "Python 3",
   "language": "python",
   "name": "python3"
  },
  "language_info": {
   "codemirror_mode": {
    "name": "ipython",
    "version": 3
   },
   "file_extension": ".py",
   "mimetype": "text/x-python",
   "name": "python",
   "nbconvert_exporter": "python",
   "pygments_lexer": "ipython3",
   "version": "3.5.2"
  }
 },
 "nbformat": 4,
 "nbformat_minor": 2
}
