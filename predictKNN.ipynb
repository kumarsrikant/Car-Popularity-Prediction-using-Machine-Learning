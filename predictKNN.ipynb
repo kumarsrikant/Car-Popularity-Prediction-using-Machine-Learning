{
 "cells": [
  {
   "cell_type": "code",
   "execution_count": 5,
   "metadata": {},
   "outputs": [
    {
     "name": "stdout",
     "output_type": "stream",
     "text": [
      "0.9754299754299754\n"
     ]
    }
   ],
   "source": [
    "from sklearn.neighbors import KNeighborsClassifier\n",
    "from sklearn.model_selection import GridSearchCV\n",
    "import numpy as np\n",
    "import pandas as pd\n",
    "\n",
    "# Load the car popularity train data\n",
    "train_data = pd.read_csv(\"train.csv\")\n",
    "test_data=pd.read_csv(\"test.csv\")\n",
    "\n",
    "\n",
    "X_train= train_data.iloc[0:,0:6]\n",
    "y_train= train_data['popularity']\n",
    "X_test= test_data\n",
    "clf = KNeighborsClassifier()\n",
    "parameters = {\"n_neighbors\": np.arange(1, 31, 2),\n",
    "               \"metric\": [\"euclidean\", \"cityblock\"],\n",
    "                \"weights\": ['distance']}\n",
    "\n",
    "grid_obj = GridSearchCV(clf, parameters)\n",
    "grid_fit = grid_obj.fit(X_train,y_train)\n",
    "best_clf = grid_fit.best_estimator_\n",
    "predictions = (clf.fit(X_train, y_train)).predict(X_test)\n",
    "best_predictions = best_clf.predict(X_test)\n",
    "popularity= np.array(best_predictions)[np.newaxis]\n",
    "accuracy=clf.score(X_train,y_train)\n",
    "print(accuracy)\n",
    "df = pd.DataFrame(popularity.T)\n",
    "df.to_csv(\"predictionKNN.csv\",index=False, header=None)"
   ]
  },
  {
   "cell_type": "code",
   "execution_count": null,
   "metadata": {},
   "outputs": [],
   "source": []
  },
  {
   "cell_type": "code",
   "execution_count": null,
   "metadata": {},
   "outputs": [],
   "source": []
  }
 ],
 "metadata": {
  "kernelspec": {
   "display_name": "Python 3",
   "language": "python",
   "name": "python3"
  },
  "language_info": {
   "codemirror_mode": {
    "name": "ipython",
    "version": 3
   },
   "file_extension": ".py",
   "mimetype": "text/x-python",
   "name": "python",
   "nbconvert_exporter": "python",
   "pygments_lexer": "ipython3",
   "version": "3.5.2"
  }
 },
 "nbformat": 4,
 "nbformat_minor": 2
}
