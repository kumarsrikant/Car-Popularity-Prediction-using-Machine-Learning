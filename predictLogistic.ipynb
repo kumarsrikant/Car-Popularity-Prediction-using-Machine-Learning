{
 "cells": [
  {
   "cell_type": "code",
   "execution_count": 2,
   "metadata": {},
   "outputs": [
    {
     "name": "stdout",
     "output_type": "stream",
     "text": [
      "0.831081081081081\n"
     ]
    }
   ],
   "source": [
    "import pandas as pd\n",
    "from sklearn.linear_model import LogisticRegression\n",
    "\n",
    "# Reading the data\n",
    "train = pd.read_csv(r'train.csv')\n",
    "test = pd.read_csv(r'test.csv')\n",
    "\n",
    "#prediction\n",
    "train_y = train.popularity\n",
    "predictor_cols = ['buying_price', 'maintainence_cost', 'number_of_doors', 'number_of_seats','luggage_boot_size','safety_rating']\n",
    "\n",
    "#Training Data\n",
    "train_X = train[predictor_cols]\n",
    "\n",
    "#model\n",
    "logisticRegr= LogisticRegression()\n",
    "logisticRegr.fit(train_X, train_y)\n",
    "\n",
    "#Test Data\n",
    "test_X = test[predictor_cols]\n",
    "#Predicting\n",
    "predicted_prices = logisticRegr.predict(test_X)\n",
    "\n",
    "accuracy=logisticRegr.score(train_X, train_y)\n",
    "print(accuracy)\n",
    "\n",
    "my_submission = pd.DataFrame({'Popularity': predicted_prices})\n",
    "\n",
    "#Cerating seperate data\n",
    "my_submission.to_csv('submissionLogisticRegression.csv', index=False)"
   ]
  },
  {
   "cell_type": "code",
   "execution_count": null,
   "metadata": {},
   "outputs": [],
   "source": []
  }
 ],
 "metadata": {
  "kernelspec": {
   "display_name": "Python 3",
   "language": "python",
   "name": "python3"
  },
  "language_info": {
   "codemirror_mode": {
    "name": "ipython",
    "version": 3
   },
   "file_extension": ".py",
   "mimetype": "text/x-python",
   "name": "python",
   "nbconvert_exporter": "python",
   "pygments_lexer": "ipython3",
   "version": "3.5.2"
  }
 },
 "nbformat": 4,
 "nbformat_minor": 2
}
